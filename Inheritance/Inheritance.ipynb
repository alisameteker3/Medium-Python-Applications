{
 "cells": [
  {
   "cell_type": "markdown",
   "id": "d6204448-1120-4c26-a7b4-858db902f907",
   "metadata": {},
   "source": [
    "## İNHERİTANCE"
   ]
  },
  {
   "cell_type": "code",
   "execution_count": 1,
   "id": "73def14b-885d-4d91-8d56-52b8baa9591e",
   "metadata": {},
   "outputs": [],
   "source": [
    "class Hayvan():\n",
    "    def __init__(self):\n",
    "        print(\"hayvan sınıfı çağrıldı\")\n",
    "\n",
    "    def method1(self):\n",
    "        print(\"hayvan sınıfı method1 çağrıldı \")\n",
    "\n",
    "    def method2(self):\n",
    "        print(\"hayvan sınıfı meyhod2 çağrıldı \")"
   ]
  },
  {
   "cell_type": "code",
   "execution_count": 2,
   "id": "1e20ea7e-1e9f-419d-8271-0537569c5847",
   "metadata": {},
   "outputs": [
    {
     "name": "stdout",
     "output_type": "stream",
     "text": [
      "hayvan sınıfı çağrıldı\n"
     ]
    }
   ],
   "source": [
    "benimHayvanim = Hayvan()"
   ]
  },
  {
   "cell_type": "code",
   "execution_count": 4,
   "id": "3394b6ea-e39f-4fb8-9a4c-71ba0c616ed4",
   "metadata": {},
   "outputs": [
    {
     "name": "stdout",
     "output_type": "stream",
     "text": [
      "hayvan sınıfı method1 çağrıldı \n"
     ]
    }
   ],
   "source": [
    "benimHayvanim.method1()"
   ]
  },
  {
   "cell_type": "code",
   "execution_count": 5,
   "id": "411f7a6c-ad4b-4039-91cd-67b68889604a",
   "metadata": {},
   "outputs": [
    {
     "name": "stdout",
     "output_type": "stream",
     "text": [
      "hayvan sınıfı meyhod2 çağrıldı \n"
     ]
    }
   ],
   "source": [
    "benimHayvanim.method2()"
   ]
  },
  {
   "cell_type": "code",
   "execution_count": 10,
   "id": "64c15b3c-a3b5-4f81-aef8-209423ddb654",
   "metadata": {},
   "outputs": [],
   "source": [
    "class Kedi(Hayvan):\n",
    "    def __init__(self):\n",
    "        Hayvan.__init__(self)\n",
    "        print(\"kedi sınıf init çağırıldı\")\n",
    "\n",
    "    def miyavla(self):\n",
    "        print(\"miyav\")"
   ]
  },
  {
   "cell_type": "code",
   "execution_count": 11,
   "id": "b54b0d2a-8891-4dab-b593-383f262c8395",
   "metadata": {},
   "outputs": [
    {
     "name": "stdout",
     "output_type": "stream",
     "text": [
      "hayvan sınıfı çağrıldı\n",
      "kedi sınıf init çağırıldı\n"
     ]
    }
   ],
   "source": [
    "benimKedi = Kedi()"
   ]
  },
  {
   "cell_type": "code",
   "execution_count": 12,
   "id": "eec91979-6147-4cef-a929-063ed0835e7b",
   "metadata": {},
   "outputs": [
    {
     "name": "stdout",
     "output_type": "stream",
     "text": [
      "hayvan sınıfı method1 çağrıldı \n"
     ]
    }
   ],
   "source": [
    "benimKedi.method1()"
   ]
  },
  {
   "cell_type": "code",
   "execution_count": 13,
   "id": "6ec98138-52b6-4adb-a614-7c1f71198416",
   "metadata": {},
   "outputs": [
    {
     "name": "stdout",
     "output_type": "stream",
     "text": [
      "miyav\n"
     ]
    }
   ],
   "source": [
    "benimKedi.miyavla()"
   ]
  },
  {
   "cell_type": "code",
   "execution_count": null,
   "id": "5e45bebb-1919-4ea2-82e7-218aa352b65f",
   "metadata": {},
   "outputs": [],
   "source": []
  }
 ],
 "metadata": {
  "kernelspec": {
   "display_name": "Python 3 (ipykernel)",
   "language": "python",
   "name": "python3"
  },
  "language_info": {
   "codemirror_mode": {
    "name": "ipython",
    "version": 3
   },
   "file_extension": ".py",
   "mimetype": "text/x-python",
   "name": "python",
   "nbconvert_exporter": "python",
   "pygments_lexer": "ipython3",
   "version": "3.11.7"
  }
 },
 "nbformat": 4,
 "nbformat_minor": 5
}
