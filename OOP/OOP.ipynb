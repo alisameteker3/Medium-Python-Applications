{
 "cells": [
  {
   "cell_type": "code",
   "execution_count": 79,
   "id": "33e1dc36-e60d-4689-a28c-c36c09a6b46f",
   "metadata": {},
   "outputs": [],
   "source": [
    "benimListem = list()"
   ]
  },
  {
   "cell_type": "code",
   "execution_count": 80,
   "id": "3cb2a50c-5ed5-44e2-b904-fafb8162506b",
   "metadata": {},
   "outputs": [
    {
     "data": {
      "text/plain": [
       "list"
      ]
     },
     "execution_count": 80,
     "metadata": {},
     "output_type": "execute_result"
    }
   ],
   "source": [
    "type(benimListem)"
   ]
  },
  {
   "cell_type": "markdown",
   "id": "400d8ce8-5972-4e57-a833-c48b93903ecc",
   "metadata": {},
   "source": [
    "## instance and attribute"
   ]
  },
  {
   "cell_type": "code",
   "execution_count": 81,
   "id": "91e7ee8c-3a89-40ce-a772-bea39169521d",
   "metadata": {},
   "outputs": [],
   "source": [
    "superKahramanAdi = \"Superman\"\n",
    "superKahramanYasi = 30\n",
    "superKahramanMeslegi = \"Gazeteci\""
   ]
  },
  {
   "cell_type": "code",
   "execution_count": 82,
   "id": "c278276c-7d45-44b8-a8f0-29038791ad43",
   "metadata": {},
   "outputs": [],
   "source": [
    "ikinciSuperKahraman = \"Batman\"\n"
   ]
  },
  {
   "cell_type": "code",
   "execution_count": 83,
   "id": "dc604bd9-0114-493f-8de0-83ca12e08bae",
   "metadata": {},
   "outputs": [],
   "source": [
    "class SuperKahraman():\n",
    "    ozelGuc = \"Gorunezlik\"\n",
    "    def __init__(self,isim,yas,meslek):\n",
    "        print(\"init çağrıldı\")\n",
    "        self.isim = isim\n",
    "        self.yas = yas\n",
    "        self.meslek = meslek\n",
    "\n",
    "    def ornekMethod(self):\n",
    "        print(f\"ben superkahramanım mesleğim : {self.meslek} \")\n",
    "\n"
   ]
  },
  {
   "cell_type": "code",
   "execution_count": 84,
   "id": "2df1f9d0-4ccb-4376-aa97-599a5616efb2",
   "metadata": {},
   "outputs": [
    {
     "name": "stdout",
     "output_type": "stream",
     "text": [
      "init çağrıldı\n"
     ]
    }
   ],
   "source": [
    "superman = SuperKahraman(\"Superman\",30,\"Gazeteci\")"
   ]
  },
  {
   "cell_type": "code",
   "execution_count": 85,
   "id": "6bf9dc8e-6e6d-4417-8363-0bd3e9609bda",
   "metadata": {},
   "outputs": [
    {
     "data": {
      "text/plain": [
       "'Superman'"
      ]
     },
     "execution_count": 85,
     "metadata": {},
     "output_type": "execute_result"
    }
   ],
   "source": [
    "superman.isim"
   ]
  },
  {
   "cell_type": "code",
   "execution_count": 86,
   "id": "5bf680b9-cf9b-400a-8b60-74ce90b06959",
   "metadata": {},
   "outputs": [],
   "source": [
    "superman.isim = \"Batman\""
   ]
  },
  {
   "cell_type": "code",
   "execution_count": 87,
   "id": "a41282c6-8046-469b-b1be-3dd9f4831978",
   "metadata": {},
   "outputs": [
    {
     "data": {
      "text/plain": [
       "'Batman'"
      ]
     },
     "execution_count": 87,
     "metadata": {},
     "output_type": "execute_result"
    }
   ],
   "source": [
    "superman.isim"
   ]
  },
  {
   "cell_type": "code",
   "execution_count": 88,
   "id": "c7634c31-46e4-4fa0-80d7-59173567c4d4",
   "metadata": {},
   "outputs": [
    {
     "data": {
      "text/plain": [
       "'Gazeteci'"
      ]
     },
     "execution_count": 88,
     "metadata": {},
     "output_type": "execute_result"
    }
   ],
   "source": [
    "superman.meslek"
   ]
  },
  {
   "cell_type": "code",
   "execution_count": 89,
   "id": "7d0a0d4c-d0a4-4762-bebe-6f8c7d8cd818",
   "metadata": {},
   "outputs": [
    {
     "data": {
      "text/plain": [
       "30"
      ]
     },
     "execution_count": 89,
     "metadata": {},
     "output_type": "execute_result"
    }
   ],
   "source": [
    "superman.yas"
   ]
  },
  {
   "cell_type": "code",
   "execution_count": 90,
   "id": "effd9d19-f108-47a0-8ee1-553e56a32dbb",
   "metadata": {},
   "outputs": [
    {
     "data": {
      "text/plain": [
       "'Gorunezlik'"
      ]
     },
     "execution_count": 90,
     "metadata": {},
     "output_type": "execute_result"
    }
   ],
   "source": [
    "SuperKahraman.ozelGuc"
   ]
  },
  {
   "cell_type": "code",
   "execution_count": 91,
   "id": "7c80dbaa-8a15-480d-81b8-85d64db9ac71",
   "metadata": {},
   "outputs": [
    {
     "data": {
      "text/plain": [
       "'Gorunezlik'"
      ]
     },
     "execution_count": 91,
     "metadata": {},
     "output_type": "execute_result"
    }
   ],
   "source": [
    "superman.ozelGuc"
   ]
  },
  {
   "cell_type": "code",
   "execution_count": 92,
   "id": "96536e68-cbcc-400b-a447-799f8906f28a",
   "metadata": {},
   "outputs": [],
   "source": [
    "superman.ozelGuc = \"ucabilmek\""
   ]
  },
  {
   "cell_type": "code",
   "execution_count": 93,
   "id": "96d5748a-4e90-4b38-b4ee-7139926fdb7e",
   "metadata": {},
   "outputs": [
    {
     "data": {
      "text/plain": [
       "'ucabilmek'"
      ]
     },
     "execution_count": 93,
     "metadata": {},
     "output_type": "execute_result"
    }
   ],
   "source": [
    "superman.ozelGuc"
   ]
  },
  {
   "cell_type": "code",
   "execution_count": 94,
   "id": "340048a5-9ce7-4cee-8b93-b63d631e9daa",
   "metadata": {},
   "outputs": [
    {
     "name": "stdout",
     "output_type": "stream",
     "text": [
      "ben superkahramanım mesleğim : Gazeteci \n"
     ]
    }
   ],
   "source": [
    "superman.ornekMethod()"
   ]
  },
  {
   "cell_type": "code",
   "execution_count": null,
   "id": "174ff6bc-e65e-4a18-b880-9d5d82c3956e",
   "metadata": {},
   "outputs": [],
   "source": []
  },
  {
   "cell_type": "code",
   "execution_count": 121,
   "id": "f18dddb7-26f3-47d2-9813-cd215a103793",
   "metadata": {},
   "outputs": [],
   "source": [
    "class Kopek():\n",
    "\n",
    "    yılCarpani = 7\n",
    "    \n",
    "    def __init__(self,yas=5):\n",
    "        self.yas = yas\n",
    "\n",
    "    def insanyasihesapla(self):\n",
    "        return self.yas * self.yılCarpani"
   ]
  },
  {
   "cell_type": "code",
   "execution_count": 122,
   "id": "844b464a-b6b2-4647-857b-13532b04b9fb",
   "metadata": {},
   "outputs": [],
   "source": [
    "benimKopek = Kopek()"
   ]
  },
  {
   "cell_type": "code",
   "execution_count": 123,
   "id": "25a2b3c9-9530-4b94-8754-9b97b6d55b1e",
   "metadata": {},
   "outputs": [
    {
     "data": {
      "text/plain": [
       "5"
      ]
     },
     "execution_count": 123,
     "metadata": {},
     "output_type": "execute_result"
    }
   ],
   "source": [
    "benimKopek.yas"
   ]
  },
  {
   "cell_type": "code",
   "execution_count": 124,
   "id": "4d88a552-c058-454e-9cdc-1d9731054d0b",
   "metadata": {},
   "outputs": [
    {
     "data": {
      "text/plain": [
       "35"
      ]
     },
     "execution_count": 124,
     "metadata": {},
     "output_type": "execute_result"
    }
   ],
   "source": [
    "benimKopek.insanyasihesapla()"
   ]
  },
  {
   "cell_type": "code",
   "execution_count": null,
   "id": "6ef0cb39-85f0-4d8f-ba89-859eb8256e70",
   "metadata": {},
   "outputs": [],
   "source": []
  },
  {
   "cell_type": "code",
   "execution_count": null,
   "id": "6ad7ef9b-91d3-4237-997a-f839724df3c4",
   "metadata": {},
   "outputs": [],
   "source": []
  }
 ],
 "metadata": {
  "kernelspec": {
   "display_name": "Python 3 (ipykernel)",
   "language": "python",
   "name": "python3"
  },
  "language_info": {
   "codemirror_mode": {
    "name": "ipython",
    "version": 3
   },
   "file_extension": ".py",
   "mimetype": "text/x-python",
   "name": "python",
   "nbconvert_exporter": "python",
   "pygments_lexer": "ipython3",
   "version": "3.11.7"
  }
 },
 "nbformat": 4,
 "nbformat_minor": 5
}
